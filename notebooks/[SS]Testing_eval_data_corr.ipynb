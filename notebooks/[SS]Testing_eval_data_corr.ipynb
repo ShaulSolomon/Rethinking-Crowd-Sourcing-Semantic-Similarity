{
 "metadata": {
  "language_info": {
   "codemirror_mode": {
    "name": "ipython",
    "version": 3
   },
   "file_extension": ".py",
   "mimetype": "text/x-python",
   "name": "python",
   "nbconvert_exporter": "python",
   "pygments_lexer": "ipython3",
   "version": "3.6.9-final"
  },
  "orig_nbformat": 2,
  "kernelspec": {
   "name": "python36964bitvenvsota3ad709967f274309bbd0f51575c18c2c",
   "display_name": "Python 3.6.9 64-bit ('venv_sota')"
  }
 },
 "nbformat": 4,
 "nbformat_minor": 2,
 "cells": [
  {
   "source": [
    "## Testing Eval_data Correlation\n",
    "\n",
    "Does filtering out the bad annotators + using Linear/Non-Linear models to explore metric relations better increase the Pearson Correlation between human labeling and the various metrics used for Semantic Similarity?"
   ],
   "cell_type": "markdown",
   "metadata": {}
  },
  {
   "cell_type": "code",
   "execution_count": 1,
   "metadata": {},
   "outputs": [],
   "source": [
    "%load_ext autoreload\n",
    "%autoreload 2"
   ]
  },
  {
   "cell_type": "code",
   "execution_count": 2,
   "metadata": {},
   "outputs": [
    {
     "output_type": "stream",
     "name": "stdout",
     "text": [
      "/home/shaul/workspace/GitHub/SOTA\n"
     ]
    }
   ],
   "source": [
    "import os\n",
    "from pathlib import Path\n",
    "\n",
    "PATH_ROOT =Path(os.getcwd()).parents[0].resolve()\n",
    "%cd {PATH_ROOT}"
   ]
  },
  {
   "cell_type": "code",
   "execution_count": 3,
   "metadata": {},
   "outputs": [],
   "source": [
    "import pandas as pd\n",
    "import sys\n",
    "import numpy as np\n",
    "from src import model_corr\n",
    "from src import metric_exploration\n",
    "from src.testing import df_validation\n",
    "import glob\n",
    "from src import utils\n",
    "import matplotlib.pyplot as plt"
   ]
  },
  {
   "cell_type": "code",
   "execution_count": 4,
   "metadata": {},
   "outputs": [],
   "source": [
    "PATH_DATA = Path(os.getcwd()).resolve() / 'data'\n",
    "PATH_COMBINED = PATH_DATA / 'datasets' / 'combined_dataset.csv'\n",
    "PATH_STS = PATH_DATA / 'datasets' / 'sts.csv'\n",
    "PATH_QQP = PATH_DATA / 'datasets'/ 'qqp.csv'"
   ]
  },
  {
   "cell_type": "code",
   "execution_count": 5,
   "metadata": {},
   "outputs": [],
   "source": [
    "metrics = ['bleu', \n",
    "           'bleu1',\n",
    "           'glove_cosine',\n",
    "           'fasttext_cosine',\n",
    "           'BertScore',\n",
    "           'chrfScore',\n",
    "           'POS Dist score',\n",
    "           '1-gram_overlap',\n",
    "           'ROUGE-1',\n",
    "           'ROUGE-2',\n",
    "           'ROUGE-l',\n",
    "           'L2_score',\n",
    "           'WMD']\n",
    "\n",
    "distance_metrics = ['glove_cosine',\n",
    "                    'fasttext_cosine',\n",
    "                    'BertScore',\n",
    "                    'POS_Dist_score',\n",
    "                    'L2_score',\n",
    "                    'WMD']"
   ]
  },
  {
   "cell_type": "code",
   "execution_count": 6,
   "metadata": {},
   "outputs": [],
   "source": [
    "with open(PATH_DATA / 'bad_annotators' / 'ba_all.txt') as f:\n",
    "    bad_annotators = f.read().split(\"\\n\")"
   ]
  },
  {
   "cell_type": "code",
   "execution_count": 7,
   "metadata": {},
   "outputs": [
    {
     "output_type": "stream",
     "name": "stdout",
     "text": [
      "\n",
      "Validating /home/shaul/workspace/GitHub/SOTA/data/datasets/sts.csv.\n",
      "/home/shaul/workspace/GitHub/SOTA/data/datasets/sts.csv has no issues\n",
      "\n",
      "\n",
      "Validating /home/shaul/workspace/GitHub/SOTA/data/datasets/combined_dataset.csv.\n",
      "Has Null Values\n",
      "Has 1 null columns in: Index(['WMD'], dtype='object')\n"
     ]
    },
    {
     "output_type": "display_data",
     "data": {
      "text/plain": "           annotator           text1           text2  label           dataset  \\\n29947  AO6Z9PKSYH073  i m not scared  i m not afraid      5  paraphrase_human   \n\n       random                   duration  total_seconds    pair_id  \\\n29947       0  0 days 00:00:06.000000000              6  pair_9982   \n\n       reduced_label  ...  POS Dist score  L2_score          bleu  bleu1  \\\n29947              1  ...             0.0  7.600291  8.636169e-78   0.75   \n\n       chrfScore  1-gram_overlap  ROUGE-1   ROUGE-2  ROUGE-l  BertScore  \n29947   0.308911             0.6     0.75  0.666667     0.75   0.995176  \n\n[1 rows x 23 columns]",
      "text/html": "<div>\n<style scoped>\n    .dataframe tbody tr th:only-of-type {\n        vertical-align: middle;\n    }\n\n    .dataframe tbody tr th {\n        vertical-align: top;\n    }\n\n    .dataframe thead th {\n        text-align: right;\n    }\n</style>\n<table border=\"1\" class=\"dataframe\">\n  <thead>\n    <tr style=\"text-align: right;\">\n      <th></th>\n      <th>annotator</th>\n      <th>text1</th>\n      <th>text2</th>\n      <th>label</th>\n      <th>dataset</th>\n      <th>random</th>\n      <th>duration</th>\n      <th>total_seconds</th>\n      <th>pair_id</th>\n      <th>reduced_label</th>\n      <th>...</th>\n      <th>POS Dist score</th>\n      <th>L2_score</th>\n      <th>bleu</th>\n      <th>bleu1</th>\n      <th>chrfScore</th>\n      <th>1-gram_overlap</th>\n      <th>ROUGE-1</th>\n      <th>ROUGE-2</th>\n      <th>ROUGE-l</th>\n      <th>BertScore</th>\n    </tr>\n  </thead>\n  <tbody>\n    <tr>\n      <th>29947</th>\n      <td>AO6Z9PKSYH073</td>\n      <td>i m not scared</td>\n      <td>i m not afraid</td>\n      <td>5</td>\n      <td>paraphrase_human</td>\n      <td>0</td>\n      <td>0 days 00:00:06.000000000</td>\n      <td>6</td>\n      <td>pair_9982</td>\n      <td>1</td>\n      <td>...</td>\n      <td>0.0</td>\n      <td>7.600291</td>\n      <td>8.636169e-78</td>\n      <td>0.75</td>\n      <td>0.308911</td>\n      <td>0.6</td>\n      <td>0.75</td>\n      <td>0.666667</td>\n      <td>0.75</td>\n      <td>0.995176</td>\n    </tr>\n  </tbody>\n</table>\n<p>1 rows × 23 columns</p>\n</div>"
     },
     "metadata": {}
    },
    {
     "output_type": "stream",
     "name": "stdout",
     "text": [
      "\n",
      "Validating /home/shaul/workspace/GitHub/SOTA/data/datasets/qqp.csv.\n",
      "Has Null Values\n",
      "Has 16 null columns in: Index(['glove_cosine', 'fasttext_cosine'], dtype='object')\n"
     ]
    },
    {
     "output_type": "display_data",
     "data": {
      "text/plain": "        pair_id                                             text_1  \\\n13797     13797  what is the most visited tourist attraction in...   \n34755     34755  if 1 single 2 double 3 triple 4 quadruple what...   \n87372     87372  since childhood why are we taught to use our r...   \n182615   182615  5 3 2 151012 9 2 4 183662 8 6 3 482466 5 4 5 2...   \n217458   217458                                  3 9 6 15 45 30 75   \n222730   222730  test your iq if 5 3 28 9 1 810 8 6 214 5 4 19 ...   \n342159   342159  5 3 2 151012 9 2 4 183662 8 6 3 482466 5 4 5 2...   \n390916   390916  3c 2fscript 3e 3cscript 3ealert 1 3c 2fscript ...   \n\n                                                   text_2  label dataset  \\\n13797                                               50 60      0     qqp   \n34755                       3 1 4 2 1 6 1 1 9 4 1 2 3 1 8      0     qqp   \n87372                      aosdhiadsoihadso dasodashdasoh      0     qqp   \n182615  can a year have 1 1 2 2 3 3 4 4 5 5 6 6 7 7 8 ...      0     qqp   \n217458  which is the best online platform like udemy l...      0     qqp   \n222730  5 3 2 151012 9 2 4 183662 8 6 3 482466 5 4 5 2...      0     qqp   \n342159  brain teasers what is the significance of this...      0     qqp   \n390916  what is the mechanism of fast charging in the ...      0     qqp   \n\n             WMD  glove_cosine  fasttext_cosine  POS Dist score  BertScore  \\\n13797   7.541452           NaN              NaN            -1.0   0.809593   \n34755   6.191661           NaN              NaN            -1.0   0.817427   \n87372   3.517509           NaN              NaN            -1.0   0.773004   \n182615  3.247686           NaN              NaN            -1.0   0.769965   \n217458  7.301051           NaN              NaN            -1.0   0.774589   \n222730  5.685385           NaN              NaN            -1.0   0.812699   \n342159  4.933079           NaN              NaN            -1.0   0.805255   \n390916  3.180801           NaN              NaN            -1.0   0.774977   \n\n         L2_score           bleu     bleu1     chrfScore  1-gram_overlap  \\\n13797   33.316765   0.000000e+00  0.000000  1.000000e-16        0.000000   \n34755   31.163538  1.267995e-231  0.350069  2.032520e-02        0.333333   \n87372   32.513489   0.000000e+00  0.000000  6.611004e-02        0.000000   \n182615  25.554724  5.027439e-155  0.387097  1.253355e-01        0.347826   \n217458  36.497360   0.000000e+00  0.000000  1.000000e-16        0.000000   \n222730  26.981937  4.066632e-155  0.226716  6.056547e-02        0.228571   \n342159  27.855181  7.644168e-155  0.482759  1.007523e-01        0.347826   \n390916  36.690182   0.000000e+00  0.000000  5.699524e-02        0.000000   \n\n         ROUGE-1   ROUGE-2   ROUGE-l  \n13797   0.000000  0.000000  0.000000  \n34755   0.375000  0.000000  0.333333  \n87372   0.000000  0.000000  0.000000  \n182615  0.480000  0.041667  0.258065  \n217458  0.000000  0.000000  0.000000  \n222730  0.346154  0.160000  0.372093  \n342159  0.583333  0.173913  0.322581  \n390916  0.000000  0.000000  0.000000  ",
      "text/html": "<div>\n<style scoped>\n    .dataframe tbody tr th:only-of-type {\n        vertical-align: middle;\n    }\n\n    .dataframe tbody tr th {\n        vertical-align: top;\n    }\n\n    .dataframe thead th {\n        text-align: right;\n    }\n</style>\n<table border=\"1\" class=\"dataframe\">\n  <thead>\n    <tr style=\"text-align: right;\">\n      <th></th>\n      <th>pair_id</th>\n      <th>text_1</th>\n      <th>text_2</th>\n      <th>label</th>\n      <th>dataset</th>\n      <th>WMD</th>\n      <th>glove_cosine</th>\n      <th>fasttext_cosine</th>\n      <th>POS Dist score</th>\n      <th>BertScore</th>\n      <th>L2_score</th>\n      <th>bleu</th>\n      <th>bleu1</th>\n      <th>chrfScore</th>\n      <th>1-gram_overlap</th>\n      <th>ROUGE-1</th>\n      <th>ROUGE-2</th>\n      <th>ROUGE-l</th>\n    </tr>\n  </thead>\n  <tbody>\n    <tr>\n      <th>13797</th>\n      <td>13797</td>\n      <td>what is the most visited tourist attraction in...</td>\n      <td>50 60</td>\n      <td>0</td>\n      <td>qqp</td>\n      <td>7.541452</td>\n      <td>NaN</td>\n      <td>NaN</td>\n      <td>-1.0</td>\n      <td>0.809593</td>\n      <td>33.316765</td>\n      <td>0.000000e+00</td>\n      <td>0.000000</td>\n      <td>1.000000e-16</td>\n      <td>0.000000</td>\n      <td>0.000000</td>\n      <td>0.000000</td>\n      <td>0.000000</td>\n    </tr>\n    <tr>\n      <th>34755</th>\n      <td>34755</td>\n      <td>if 1 single 2 double 3 triple 4 quadruple what...</td>\n      <td>3 1 4 2 1 6 1 1 9 4 1 2 3 1 8</td>\n      <td>0</td>\n      <td>qqp</td>\n      <td>6.191661</td>\n      <td>NaN</td>\n      <td>NaN</td>\n      <td>-1.0</td>\n      <td>0.817427</td>\n      <td>31.163538</td>\n      <td>1.267995e-231</td>\n      <td>0.350069</td>\n      <td>2.032520e-02</td>\n      <td>0.333333</td>\n      <td>0.375000</td>\n      <td>0.000000</td>\n      <td>0.333333</td>\n    </tr>\n    <tr>\n      <th>87372</th>\n      <td>87372</td>\n      <td>since childhood why are we taught to use our r...</td>\n      <td>aosdhiadsoihadso dasodashdasoh</td>\n      <td>0</td>\n      <td>qqp</td>\n      <td>3.517509</td>\n      <td>NaN</td>\n      <td>NaN</td>\n      <td>-1.0</td>\n      <td>0.773004</td>\n      <td>32.513489</td>\n      <td>0.000000e+00</td>\n      <td>0.000000</td>\n      <td>6.611004e-02</td>\n      <td>0.000000</td>\n      <td>0.000000</td>\n      <td>0.000000</td>\n      <td>0.000000</td>\n    </tr>\n    <tr>\n      <th>182615</th>\n      <td>182615</td>\n      <td>5 3 2 151012 9 2 4 183662 8 6 3 482466 5 4 5 2...</td>\n      <td>can a year have 1 1 2 2 3 3 4 4 5 5 6 6 7 7 8 ...</td>\n      <td>0</td>\n      <td>qqp</td>\n      <td>3.247686</td>\n      <td>NaN</td>\n      <td>NaN</td>\n      <td>-1.0</td>\n      <td>0.769965</td>\n      <td>25.554724</td>\n      <td>5.027439e-155</td>\n      <td>0.387097</td>\n      <td>1.253355e-01</td>\n      <td>0.347826</td>\n      <td>0.480000</td>\n      <td>0.041667</td>\n      <td>0.258065</td>\n    </tr>\n    <tr>\n      <th>217458</th>\n      <td>217458</td>\n      <td>3 9 6 15 45 30 75</td>\n      <td>which is the best online platform like udemy l...</td>\n      <td>0</td>\n      <td>qqp</td>\n      <td>7.301051</td>\n      <td>NaN</td>\n      <td>NaN</td>\n      <td>-1.0</td>\n      <td>0.774589</td>\n      <td>36.497360</td>\n      <td>0.000000e+00</td>\n      <td>0.000000</td>\n      <td>1.000000e-16</td>\n      <td>0.000000</td>\n      <td>0.000000</td>\n      <td>0.000000</td>\n      <td>0.000000</td>\n    </tr>\n    <tr>\n      <th>222730</th>\n      <td>222730</td>\n      <td>test your iq if 5 3 28 9 1 810 8 6 214 5 4 19 ...</td>\n      <td>5 3 2 151012 9 2 4 183662 8 6 3 482466 5 4 5 2...</td>\n      <td>0</td>\n      <td>qqp</td>\n      <td>5.685385</td>\n      <td>NaN</td>\n      <td>NaN</td>\n      <td>-1.0</td>\n      <td>0.812699</td>\n      <td>26.981937</td>\n      <td>4.066632e-155</td>\n      <td>0.226716</td>\n      <td>6.056547e-02</td>\n      <td>0.228571</td>\n      <td>0.346154</td>\n      <td>0.160000</td>\n      <td>0.372093</td>\n    </tr>\n    <tr>\n      <th>342159</th>\n      <td>342159</td>\n      <td>5 3 2 151012 9 2 4 183662 8 6 3 482466 5 4 5 2...</td>\n      <td>brain teasers what is the significance of this...</td>\n      <td>0</td>\n      <td>qqp</td>\n      <td>4.933079</td>\n      <td>NaN</td>\n      <td>NaN</td>\n      <td>-1.0</td>\n      <td>0.805255</td>\n      <td>27.855181</td>\n      <td>7.644168e-155</td>\n      <td>0.482759</td>\n      <td>1.007523e-01</td>\n      <td>0.347826</td>\n      <td>0.583333</td>\n      <td>0.173913</td>\n      <td>0.322581</td>\n    </tr>\n    <tr>\n      <th>390916</th>\n      <td>390916</td>\n      <td>3c 2fscript 3e 3cscript 3ealert 1 3c 2fscript ...</td>\n      <td>what is the mechanism of fast charging in the ...</td>\n      <td>0</td>\n      <td>qqp</td>\n      <td>3.180801</td>\n      <td>NaN</td>\n      <td>NaN</td>\n      <td>-1.0</td>\n      <td>0.774977</td>\n      <td>36.690182</td>\n      <td>0.000000e+00</td>\n      <td>0.000000</td>\n      <td>5.699524e-02</td>\n      <td>0.000000</td>\n      <td>0.000000</td>\n      <td>0.000000</td>\n      <td>0.000000</td>\n    </tr>\n  </tbody>\n</table>\n</div>"
     },
     "metadata": {}
    }
   ],
   "source": [
    "for file in (PATH_DATA / 'datasets').glob(\"*.csv\"):\n",
    "    print(f\"\\nValidating {file}.\")\n",
    "    df = pd.read_csv(file, index_col=0)\n",
    "    if df_validation.all_tests(df):\n",
    "        print(f\"{file} has no issues\\n\")"
   ]
  },
  {
   "source": [
    "### Getting the Train/Test Data"
   ],
   "cell_type": "markdown",
   "metadata": {}
  },
  {
   "cell_type": "code",
   "execution_count": 8,
   "metadata": {},
   "outputs": [
    {
     "output_type": "stream",
     "name": "stdout",
     "text": [
      "Size of train_data: 5749\tSize of test_data: 2879\n"
     ]
    }
   ],
   "source": [
    "X_train, X_test, y_train, y_test = model_corr.get_train_test_data(train_path = PATH_STS, all_metrics=metrics, scale_label = True)"
   ]
  },
  {
   "source": [
    "### Running the baseline metric of the test dataset"
   ],
   "cell_type": "markdown",
   "metadata": {}
  },
  {
   "cell_type": "code",
   "execution_count": 9,
   "metadata": {},
   "outputs": [],
   "source": [
    "ex = X_test.corrwith(y_test).apply(lambda x: abs(x)).sort_values(ascending=False).reset_index()"
   ]
  },
  {
   "source": [
    "### Checking the correlation after Linear Model (RF)"
   ],
   "cell_type": "markdown",
   "metadata": {}
  },
  {
   "cell_type": "code",
   "execution_count": 14,
   "metadata": {},
   "outputs": [
    {
     "output_type": "stream",
     "name": "stdout",
     "text": [
      "Correlation is:  0.660051870958567\n"
     ]
    }
   ],
   "source": [
    "pearsonr, features = model_corr.RF_corr(X_train,X_test,y_train,y_test,6)\n",
    "print(\"Correlation is: \", pearsonr)"
   ]
  },
  {
   "cell_type": "code",
   "execution_count": 48,
   "metadata": {},
   "outputs": [
    {
     "output_type": "display_data",
     "data": {
      "text/plain": "<IPython.core.display.HTML object>",
      "text/html": "Finishing last run (ID:xyjuehht) before initializing another..."
     },
     "metadata": {}
    },
    {
     "output_type": "display_data",
     "data": {
      "text/plain": "<IPython.core.display.HTML object>",
      "text/html": "<br/>Waiting for W&B process to finish, PID 23298<br/>Program ended successfully."
     },
     "metadata": {}
    },
    {
     "output_type": "display_data",
     "data": {
      "text/plain": "VBox(children=(Label(value=' 0.00MB of 0.00MB uploaded (0.00MB deduped)\\r'), FloatProgress(value=1.0, max=1.0)…",
      "application/vnd.jupyter.widget-view+json": {
       "version_major": 2,
       "version_minor": 0,
       "model_id": "38e690d4ace849d4afe666d792c4cc17"
      }
     },
     "metadata": {}
    },
    {
     "output_type": "display_data",
     "data": {
      "text/plain": "<IPython.core.display.HTML object>",
      "text/html": "Find user logs for this run at: <code>/home/shaul/workspace/GitHub/SOTA/wandb/run-20201123_134326-xyjuehht/logs/debug.log</code>"
     },
     "metadata": {}
    },
    {
     "output_type": "display_data",
     "data": {
      "text/plain": "<IPython.core.display.HTML object>",
      "text/html": "Find internal logs for this run at: <code>/home/shaul/workspace/GitHub/SOTA/wandb/run-20201123_134326-xyjuehht/logs/debug-internal.log</code>"
     },
     "metadata": {}
    },
    {
     "output_type": "display_data",
     "data": {
      "text/plain": "<IPython.core.display.HTML object>",
      "text/html": "<h3>Run summary:</h3><br/><style>\n    table.wandb td:nth-child(1) { padding: 0 10px; text-align: right }\n    </style><table class=\"wandb\">\n<tr><td>_step</td><td>1</td></tr><tr><td>_runtime</td><td>21</td></tr><tr><td>_timestamp</td><td>1606131832</td></tr><tr><td>RF PearsonR</td><td>-0.42964</td></tr></table>"
     },
     "metadata": {}
    },
    {
     "output_type": "display_data",
     "data": {
      "text/plain": "<IPython.core.display.HTML object>",
      "text/html": "<h3>Run history:</h3><br/><style>\n    table.wandb td:nth-child(1) { padding: 0 10px; text-align: right }\n    </style><table class=\"wandb\">\n<tr><td>_step</td><td>▁█</td></tr><tr><td>_runtime</td><td>▁█</td></tr><tr><td>_timestamp</td><td>▁█</td></tr><tr><td>RF PearsonR</td><td>▁</td></tr></table><br/>"
     },
     "metadata": {}
    },
    {
     "output_type": "display_data",
     "data": {
      "text/plain": "<IPython.core.display.HTML object>",
      "text/html": "Synced 5 W&B file(s), 2 media file(s), 0 artifact file(s) and 0 other file(s)"
     },
     "metadata": {}
    },
    {
     "output_type": "display_data",
     "data": {
      "text/plain": "<IPython.core.display.HTML object>",
      "text/html": "\n                    <br/>Synced <strong style=\"color:#cdcd00\">golden-morning-20</strong>: <a href=\"https://wandb.ai/sota-mafat/semantic_similarity/runs/xyjuehht\" target=\"_blank\">https://wandb.ai/sota-mafat/semantic_similarity/runs/xyjuehht</a><br/>\n                "
     },
     "metadata": {}
    },
    {
     "output_type": "display_data",
     "data": {
      "text/plain": "<IPython.core.display.HTML object>",
      "text/html": "...Successfully finished last run (ID:xyjuehht). Initializing new run:<br/><br/>"
     },
     "metadata": {}
    },
    {
     "output_type": "display_data",
     "data": {
      "text/plain": "<IPython.core.display.HTML object>",
      "text/html": "\n                Tracking run with wandb version 0.10.11<br/>\n                Syncing run <strong style=\"color:#cdcd00\">eternal-serenity-2</strong> to <a href=\"https://wandb.ai\" target=\"_blank\">Weights & Biases</a> <a href=\"https://docs.wandb.com/integrations/jupyter.html\" target=\"_blank\">(Documentation)</a>.<br/>\n                Project page: <a href=\"https://wandb.ai/sota-mafat/semantic_similarity\" target=\"_blank\">https://wandb.ai/sota-mafat/semantic_similarity</a><br/>\n                Run page: <a href=\"https://wandb.ai/sota-mafat/semantic_similarity/runs/2zwx1vao\" target=\"_blank\">https://wandb.ai/sota-mafat/semantic_similarity/runs/2zwx1vao</a><br/>\n                Run data is saved locally in <code>/home/shaul/workspace/GitHub/SOTA/wandb/run-20201123_143248-2zwx1vao</code><br/><br/>\n            "
     },
     "metadata": {}
    },
    {
     "output_type": "stream",
     "name": "stdout",
     "text": [
      "Size of train_data: 23928\tSize of test_data: 5983\n"
     ]
    }
   ],
   "source": [
    "config = utils.Config(train_dataset = PATH_COMBINED,\n",
    "                      test_dataset = None,\n",
    "                      bad_annotators = None,\n",
    "                      scale_features = True,\n",
    "                      scale_labels = True,\n",
    "                      rf_depth = 6,\n",
    "                      rf_top_n_features = 6)\n",
    "utils.wandb_logging(config)"
   ]
  },
  {
   "cell_type": "code",
   "execution_count": null,
   "metadata": {},
   "outputs": [],
   "source": []
  }
 ]
}